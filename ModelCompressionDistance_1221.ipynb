{
 "cells": [
  {
   "cell_type": "markdown",
   "id": "b33ee40c-02e3-454e-bd0a-a9819323e563",
   "metadata": {},
   "source": [
    "## IPSJ2025原稿用 2024/12/21 0:56"
   ]
  },
  {
   "cell_type": "code",
   "execution_count": null,
   "id": "068e9a85-faf6-4c77-a1cd-ebf20e0de449",
   "metadata": {},
   "outputs": [],
   "source": []
  },
  {
   "cell_type": "code",
   "execution_count": null,
   "id": "7f51bfc2-c8fc-47c7-a9a2-c7eb603acd87",
   "metadata": {},
   "outputs": [],
   "source": []
  }
 ],
 "metadata": {
  "kernelspec": {
   "display_name": "Python 3 (ipykernel)",
   "language": "python",
   "name": "python3"
  },
  "language_info": {
   "codemirror_mode": {
    "name": "ipython",
    "version": 3
   },
   "file_extension": ".py",
   "mimetype": "text/x-python",
   "name": "python",
   "nbconvert_exporter": "python",
   "pygments_lexer": "ipython3",
   "version": "3.9.15"
  }
 },
 "nbformat": 4,
 "nbformat_minor": 5
}
